{
 "cells": [
  {
   "cell_type": "code",
   "id": "initial_id",
   "metadata": {
    "collapsed": true,
    "ExecuteTime": {
     "end_time": "2025-10-08T05:10:32.152580Z",
     "start_time": "2025-10-08T05:10:31.198495Z"
    }
   },
   "source": [
    "import os\n",
    "\n",
    "import geopandas as gpd\n",
    "from tqdm.autonotebook import tqdm"
   ],
   "outputs": [
    {
     "name": "stderr",
     "output_type": "stream",
     "text": [
      "/tmp/ipykernel_72313/2570929655.py:4: TqdmExperimentalWarning: Using `tqdm.autonotebook.tqdm` in notebook mode. Use `tqdm.tqdm` instead to force console mode (e.g. in jupyter console)\n",
      "  from tqdm.autonotebook import tqdm\n"
     ]
    }
   ],
   "execution_count": 1
  },
  {
   "metadata": {
    "ExecuteTime": {
     "end_time": "2025-10-08T05:11:14.592091Z",
     "start_time": "2025-10-08T05:10:32.317057Z"
    }
   },
   "cell_type": "code",
   "source": [
    "AGGREGATE_RESULT_FILE_PATH = \"./outputs/manitoba_rcm_ard/IGEO7/collection.parquet\"\n",
    "AGGREGATE_SEARCH_DIR_PATH = \"./outputs/manitoba_rcm_ard/IGEO7\"\n",
    "\n",
    "# distinct dataframes with similar variables to aggregate together\n",
    "AGGREGATE_ZONE_VARIABLES = [\"rr\", \"rl\"]\n",
    "# columns used as ID to merge corresponding zones\n",
    "# (note: if datetime-aware, should include a temporal component as well)\n",
    "AGGREGATE_ZONE_ID_COLUMNS = [\"dggrid_ISEA7H\", \"day\"]\n",
    "# any column renaming (replace) to perform prior to aggregation and merging\n",
    "# (note: below extended columns are affected by this change applied before)\n",
    "AGGREGATE_RENAME_COLUMNS = {\n",
    "    \"cell_\": \"\",\n",
    "}\n",
    "# columns to extend with the relevant above variable prefix (others merged as is / duplicates)\n",
    "AGGREGATE_EXTEND_COLUMNS = [\n",
    "    \"minimum\",\n",
    "    \"maximum\",\n",
    "    \"mean\",\n",
    "    \"median\",\n",
    "    \"stddev\",\n",
    "]\n",
    "# any 'current' containing one of the below values will be skipped\n",
    "AGGREGATE_IGNORE = [\"L12\"]\n",
    "\n",
    "agg_zone_total = 0\n",
    "agg_zone_data = []\n",
    "agg_walk_progress = tqdm(\n",
    "    os.walk(AGGREGATE_SEARCH_DIR_PATH),\n",
    "    desc=\"Aggregating zone data\",\n",
    ")\n",
    "for root_dir, sub_dirs, _ in agg_walk_progress:\n",
    "    if sub_dirs != AGGREGATE_ZONE_VARIABLES:\n",
    "        continue\n",
    "\n",
    "    current = root_dir.replace(AGGREGATE_SEARCH_DIR_PATH, \"\").strip(\"/\")\n",
    "    if any(ignore in current for ignore in AGGREGATE_IGNORE):\n",
    "        sub_dirs[:] = []  # don't recurse further\n",
    "        continue\n",
    "\n",
    "    merge_zone_data = None\n",
    "    for sub_dir in sub_dirs:\n",
    "        agg_walk_progress.set_postfix(current=current, total_zones=agg_zone_total)\n",
    "        file_names = os.listdir(str(os.path.join(root_dir, sub_dir)))\n",
    "        for file_name in file_names:\n",
    "            if not file_name.endswith(\".parquet\"):\n",
    "                continue\n",
    "            file_path = os.path.join(root_dir, sub_dir, file_name)\n",
    "            try:\n",
    "                zone_data_var = gpd.read_parquet(file_path)\n",
    "                zone_data_col_rename = {\n",
    "                    col: col.replace(old, new)\n",
    "                    for old, new in AGGREGATE_RENAME_COLUMNS.items()\n",
    "                    for col in zone_data_var.columns\n",
    "                }\n",
    "                zone_data_var = zone_data_var.rename(columns=zone_data_col_rename)\n",
    "                zone_data_col_merge = {\n",
    "                    col: f\"{sub_dir}_{col}\"\n",
    "                    for col in AGGREGATE_EXTEND_COLUMNS\n",
    "                }\n",
    "                zone_data_var = zone_data_var.rename(columns=zone_data_col_merge)\n",
    "                if merge_zone_data is None:\n",
    "                    merge_zone_data = zone_data_var\n",
    "                else:\n",
    "                    merge_zone_cols = AGGREGATE_ZONE_ID_COLUMNS + list(zone_data_col_merge.values())\n",
    "                    merge_zone_data = merge_zone_data.merge(\n",
    "                        zone_data_var[merge_zone_cols],\n",
    "                        on=AGGREGATE_ZONE_ID_COLUMNS,\n",
    "                        how=\"outer\",\n",
    "                        suffixes=(\"\", \"\"),  # raise if something went wrong, don't do silent fixes\n",
    "                    )\n",
    "                break  # in case many were found, ignore others (cannot merge anyway / no priority)\n",
    "            except Exception as exc:\n",
    "                err_msg = f\"Error while processing [{file_path}]: {exc}\"\n",
    "                raise Exception(err_msg) from exc\n",
    "\n",
    "        if merge_zone_data is not None:\n",
    "            agg_zone_total += len(merge_zone_data)\n",
    "            agg_walk_progress.set_postfix(current=current, total_zones=agg_zone_total)\n",
    "\n",
    "    agg_zone_data.append(merge_zone_data)\n",
    "    sub_dirs[:] = []  # don't recurse further\n",
    "\n",
    "print(\"Found results:\", len(agg_zone_data))\n",
    "agg_zone_data = gpd.pd.concat(agg_zone_data, ignore_index=True)\n",
    "print(\"Soring results...\")\n",
    "agg_zone_data = agg_zone_data.sort_values(\n",
    "    by=[\"resolution\", \"datetime\"],\n",
    "    ascending=[True, False]\n",
    ")\n",
    "print(\"Done aggregating, saving result:\", AGGREGATE_RESULT_FILE_PATH)\n",
    "agg_zone_data.to_parquet(AGGREGATE_RESULT_FILE_PATH)"
   ],
   "id": "1e00e107a03f737c",
   "outputs": [
    {
     "data": {
      "text/plain": [
       "Aggregating zone data: 0it [00:00, ?it/s]"
      ],
      "application/vnd.jupyter.widget-view+json": {
       "version_major": 2,
       "version_minor": 0,
       "model_id": "37a2e36cec6f4858b8f1771eaa2efb81"
      }
     },
     "metadata": {},
     "output_type": "display_data"
    },
    {
     "name": "stdout",
     "output_type": "stream",
     "text": [
      "Found results: 295\n",
      "Soring results...\n",
      "Done aggregating, saving result: outputs/manitoba_rcm_ard/collection.parquet\n"
     ]
    }
   ],
   "execution_count": 2
  }
 ],
 "metadata": {
  "kernelspec": {
   "display_name": "Python 3",
   "language": "python",
   "name": "python3"
  },
  "language_info": {
   "codemirror_mode": {
    "name": "ipython",
    "version": 2
   },
   "file_extension": ".py",
   "mimetype": "text/x-python",
   "name": "python",
   "nbconvert_exporter": "python",
   "pygments_lexer": "ipython2",
   "version": "2.7.6"
  }
 },
 "nbformat": 4,
 "nbformat_minor": 5
}
